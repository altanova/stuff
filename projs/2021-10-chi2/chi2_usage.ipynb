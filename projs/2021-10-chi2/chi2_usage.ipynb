{
 "cells": [
  {
   "cell_type": "markdown",
   "metadata": {},
   "source": [
    "# Chi2_score() usage example\n",
    "\n",
    "The purpose of this notebook: to provide alternative to SelectKBest().\n",
    "\n",
    "The scikit-learn's method sklearn.SelectKBest(score_func=chi2) returns faulty results, when chi2 is used as the scoring parameter. as described in the bug #21455 available here: https://github.com/scikit-learn/scikit-learn/issues/21455 . I discovered this using sklearn's version 0.24.1, but as I understand the bug is still there in the latest edition of scikit-learn 1.0.1 released October 2021. \n",
    "\n",
    "Until the fix is developed, developers may use the method chi2_util.chi2_score(), as demonstrated below. This method is a wrapper around scipy.stats.chi2_contingency(), which is an alternative implementation of chi-square test. Below I show how to use it."
   ]
  },
  {
   "cell_type": "markdown",
   "metadata": {},
   "source": [
    "## prepare the environment"
   ]
  },
  {
   "cell_type": "code",
   "execution_count": 9,
   "metadata": {},
   "outputs": [
    {
     "data": {
      "text/html": [
       "<div>\n",
       "<style scoped>\n",
       "    .dataframe tbody tr th:only-of-type {\n",
       "        vertical-align: middle;\n",
       "    }\n",
       "\n",
       "    .dataframe tbody tr th {\n",
       "        vertical-align: top;\n",
       "    }\n",
       "\n",
       "    .dataframe thead th {\n",
       "        text-align: right;\n",
       "    }\n",
       "</style>\n",
       "<table border=\"1\" class=\"dataframe\">\n",
       "  <thead>\n",
       "    <tr style=\"text-align: right;\">\n",
       "      <th></th>\n",
       "      <th>education</th>\n",
       "      <th>B</th>\n",
       "      <th>C</th>\n",
       "      <th>D</th>\n",
       "      <th>expertise</th>\n",
       "      <th>F</th>\n",
       "      <th>success</th>\n",
       "    </tr>\n",
       "  </thead>\n",
       "  <tbody>\n",
       "    <tr>\n",
       "      <th>0</th>\n",
       "      <td>4</td>\n",
       "      <td>11</td>\n",
       "      <td>131</td>\n",
       "      <td>45</td>\n",
       "      <td>20</td>\n",
       "      <td>159</td>\n",
       "      <td>2</td>\n",
       "    </tr>\n",
       "    <tr>\n",
       "      <th>1</th>\n",
       "      <td>0</td>\n",
       "      <td>6</td>\n",
       "      <td>12</td>\n",
       "      <td>63</td>\n",
       "      <td>73</td>\n",
       "      <td>64</td>\n",
       "      <td>2</td>\n",
       "    </tr>\n",
       "    <tr>\n",
       "      <th>2</th>\n",
       "      <td>4</td>\n",
       "      <td>8</td>\n",
       "      <td>137</td>\n",
       "      <td>56</td>\n",
       "      <td>102</td>\n",
       "      <td>240</td>\n",
       "      <td>2</td>\n",
       "    </tr>\n",
       "    <tr>\n",
       "      <th>3</th>\n",
       "      <td>3</td>\n",
       "      <td>14</td>\n",
       "      <td>137</td>\n",
       "      <td>58</td>\n",
       "      <td>116</td>\n",
       "      <td>59</td>\n",
       "      <td>1</td>\n",
       "    </tr>\n",
       "    <tr>\n",
       "      <th>4</th>\n",
       "      <td>4</td>\n",
       "      <td>4</td>\n",
       "      <td>137</td>\n",
       "      <td>10</td>\n",
       "      <td>50</td>\n",
       "      <td>200</td>\n",
       "      <td>2</td>\n",
       "    </tr>\n",
       "  </tbody>\n",
       "</table>\n",
       "</div>"
      ],
      "text/plain": [
       "   education   B    C   D  expertise    F  success\n",
       "0          4  11  131  45         20  159        2\n",
       "1          0   6   12  63         73   64        2\n",
       "2          4   8  137  56        102  240        2\n",
       "3          3  14  137  58        116   59        1\n",
       "4          4   4  137  10         50  200        2"
      ]
     },
     "execution_count": 9,
     "metadata": {},
     "output_type": "execute_result"
    }
   ],
   "source": [
    "#imports\n",
    "import pandas as pd\n",
    "\n",
    "# read in the sample data\n",
    "df = pd.read_csv('sample300.csv')\n",
    "\n",
    "# you don't need to do this. I below rename the data to remain in line with the story line\n",
    "# https://ondata.blog/articles/dont-trust-data-science-ask-the-people/\n",
    "# but you don't need to do this. Renaming of the features is not needed.\n",
    "\n",
    "df = df.rename(columns = {'A': 'education', \n",
    "                          'E': 'expertise', \n",
    "                          'label': 'success'})\n",
    "label = 'success'\n",
    "\n",
    "# here's how the data looks\n",
    "df.head()"
   ]
  },
  {
   "cell_type": "markdown",
   "metadata": {},
   "source": [
    "## calculate chi2 score\n",
    "\n",
    "In the result you get the complete dataframe of features sorted by ranks."
   ]
  },
  {
   "cell_type": "code",
   "execution_count": 10,
   "metadata": {},
   "outputs": [
    {
     "data": {
      "text/html": [
       "<div>\n",
       "<style scoped>\n",
       "    .dataframe tbody tr th:only-of-type {\n",
       "        vertical-align: middle;\n",
       "    }\n",
       "\n",
       "    .dataframe tbody tr th {\n",
       "        vertical-align: top;\n",
       "    }\n",
       "\n",
       "    .dataframe thead th {\n",
       "        text-align: right;\n",
       "    }\n",
       "</style>\n",
       "<table border=\"1\" class=\"dataframe\">\n",
       "  <thead>\n",
       "    <tr style=\"text-align: right;\">\n",
       "      <th></th>\n",
       "      <th>chi2</th>\n",
       "      <th>critical</th>\n",
       "      <th>dof</th>\n",
       "      <th>p</th>\n",
       "      <th>rank</th>\n",
       "      <th>reverse_rank</th>\n",
       "    </tr>\n",
       "  </thead>\n",
       "  <tbody>\n",
       "    <tr>\n",
       "      <th>expertise</th>\n",
       "      <td>179.441098</td>\n",
       "      <td>5.991465</td>\n",
       "      <td>2.0</td>\n",
       "      <td>1.083579e-39</td>\n",
       "      <td>29.949455</td>\n",
       "      <td>0.033390</td>\n",
       "    </tr>\n",
       "    <tr>\n",
       "      <th>education</th>\n",
       "      <td>145.991612</td>\n",
       "      <td>7.814728</td>\n",
       "      <td>3.0</td>\n",
       "      <td>1.929182e-31</td>\n",
       "      <td>18.681599</td>\n",
       "      <td>0.053529</td>\n",
       "    </tr>\n",
       "    <tr>\n",
       "      <th>D</th>\n",
       "      <td>83.383496</td>\n",
       "      <td>14.067140</td>\n",
       "      <td>7.0</td>\n",
       "      <td>2.806969e-15</td>\n",
       "      <td>5.927537</td>\n",
       "      <td>0.168704</td>\n",
       "    </tr>\n",
       "    <tr>\n",
       "      <th>B</th>\n",
       "      <td>72.761234</td>\n",
       "      <td>12.591587</td>\n",
       "      <td>6.0</td>\n",
       "      <td>1.108339e-13</td>\n",
       "      <td>5.778559</td>\n",
       "      <td>0.173054</td>\n",
       "    </tr>\n",
       "    <tr>\n",
       "      <th>C</th>\n",
       "      <td>26.008687</td>\n",
       "      <td>3.841459</td>\n",
       "      <td>1.0</td>\n",
       "      <td>3.398845e-07</td>\n",
       "      <td>6.770524</td>\n",
       "      <td>0.147699</td>\n",
       "    </tr>\n",
       "    <tr>\n",
       "      <th>F</th>\n",
       "      <td>1.714086</td>\n",
       "      <td>3.841459</td>\n",
       "      <td>1.0</td>\n",
       "      <td>1.904561e-01</td>\n",
       "      <td>0.446207</td>\n",
       "      <td>2.241112</td>\n",
       "    </tr>\n",
       "  </tbody>\n",
       "</table>\n",
       "</div>"
      ],
      "text/plain": [
       "                 chi2   critical  dof             p       rank  reverse_rank\n",
       "expertise  179.441098   5.991465  2.0  1.083579e-39  29.949455      0.033390\n",
       "education  145.991612   7.814728  3.0  1.929182e-31  18.681599      0.053529\n",
       "D           83.383496  14.067140  7.0  2.806969e-15   5.927537      0.168704\n",
       "B           72.761234  12.591587  6.0  1.108339e-13   5.778559      0.173054\n",
       "C           26.008687   3.841459  1.0  3.398845e-07   6.770524      0.147699\n",
       "F            1.714086   3.841459  1.0  1.904561e-01   0.446207      2.241112"
      ]
     },
     "execution_count": 10,
     "metadata": {},
     "output_type": "execute_result"
    }
   ],
   "source": [
    "import chi2_util\n",
    "# what are our categorical feature columns? In this case, all columns except label\n",
    "cat_feature_cols = list(set(df.columns) - set([label]))\n",
    "result = chi2_util.chi2_score(df, \n",
    "                              features = cat_feature_cols, \n",
    "                              target = label,\n",
    "                              alpha = 0.05,\n",
    "                              deep = True)\n",
    "result"
   ]
  },
  {
   "cell_type": "markdown",
   "metadata": {},
   "source": [
    "## How to use this result table\n",
    "\n",
    "Here's a few examples what you can do."
   ]
  },
  {
   "cell_type": "code",
   "execution_count": 11,
   "metadata": {},
   "outputs": [
    {
     "data": {
      "text/plain": [
       "['expertise', 'education', 'D']"
      ]
     },
     "execution_count": 11,
     "metadata": {},
     "output_type": "execute_result"
    }
   ],
   "source": [
    "# get the names of top 3 features\n",
    "result.index[:3].tolist()"
   ]
  },
  {
   "cell_type": "code",
   "execution_count": 12,
   "metadata": {},
   "outputs": [
    {
     "data": {
      "text/plain": [
       "expertise    179.441098\n",
       "education    145.991612\n",
       "D             83.383496\n",
       "B             72.761234\n",
       "C             26.008687\n",
       "Name: chi2, dtype: float64"
      ]
     },
     "execution_count": 12,
     "metadata": {},
     "output_type": "execute_result"
    }
   ],
   "source": [
    "# get the chi2 scores for top 5 features\n",
    "result['chi2'][:5]"
   ]
  },
  {
   "cell_type": "code",
   "execution_count": 13,
   "metadata": {},
   "outputs": [
    {
     "data": {
      "text/plain": [
       "expertise    1.083579e-39\n",
       "education    1.929182e-31\n",
       "D            2.806969e-15\n",
       "B            1.108339e-13\n",
       "C            3.398845e-07\n",
       "F            1.904561e-01\n",
       "Name: p, dtype: float64"
      ]
     },
     "execution_count": 13,
     "metadata": {},
     "output_type": "execute_result"
    }
   ],
   "source": [
    "# get the p-values for all features\n",
    "result['p']"
   ]
  },
  {
   "cell_type": "markdown",
   "metadata": {},
   "source": [
    "# More reading"
   ]
  },
  {
   "cell_type": "markdown",
   "metadata": {},
   "source": [
    "The implementation is intended as a temporary fix. It should work well for most cases, but it is not fully robust. Two sections of the algorithm should be improved. Read the code to see the detail. \n",
    "\n",
    "Should anything not work, this may be to do with the dependencies so compare your versions of the libraries to mine, below:"
   ]
  },
  {
   "cell_type": "code",
   "execution_count": 27,
   "metadata": {},
   "outputs": [
    {
     "data": {
      "text/plain": [
       "'1.2.3'"
      ]
     },
     "execution_count": 27,
     "metadata": {},
     "output_type": "execute_result"
    }
   ],
   "source": [
    "pd.__version__"
   ]
  },
  {
   "cell_type": "code",
   "execution_count": 28,
   "metadata": {},
   "outputs": [
    {
     "data": {
      "text/plain": [
       "'0.24.1'"
      ]
     },
     "execution_count": 28,
     "metadata": {},
     "output_type": "execute_result"
    }
   ],
   "source": [
    "import sklearn\n",
    "sklearn.__version__"
   ]
  },
  {
   "cell_type": "code",
   "execution_count": 29,
   "metadata": {},
   "outputs": [
    {
     "data": {
      "text/plain": [
       "'1.6.2'"
      ]
     },
     "execution_count": 29,
     "metadata": {},
     "output_type": "execute_result"
    }
   ],
   "source": [
    "import scipy\n",
    "scipy.__version__"
   ]
  },
  {
   "cell_type": "code",
   "execution_count": 33,
   "metadata": {},
   "outputs": [
    {
     "data": {
      "text/plain": [
       "'3.7.7'"
      ]
     },
     "execution_count": 33,
     "metadata": {},
     "output_type": "execute_result"
    }
   ],
   "source": [
    "from platform import python_version \n",
    "python_version()"
   ]
  },
  {
   "cell_type": "code",
   "execution_count": 39,
   "metadata": {},
   "outputs": [
    {
     "name": "stdout",
     "output_type": "stream",
     "text": [
      "\n",
      "System:\n",
      "    python: 3.7.7 (default, May  6 2020, 11:45:54) [MSC v.1916 64 bit (AMD64)]\n",
      "executable: C:\\Users\\pplaszczak\\AppData\\Local\\Continuum\\anaconda3\\python.exe\n",
      "   machine: Windows-10-10.0.18362-SP0\n",
      "\n",
      "Python dependencies:\n",
      "          pip: 21.0.1\n",
      "   setuptools: 52.0.0.post20210125\n",
      "      sklearn: 0.24.1\n",
      "        numpy: 1.19.2\n",
      "        scipy: 1.6.2\n",
      "       Cython: 0.29.22\n",
      "       pandas: 1.2.3\n",
      "   matplotlib: 3.3.4\n",
      "       joblib: 1.0.1\n",
      "threadpoolctl: 2.1.0\n",
      "\n",
      "Built with OpenMP: True\n"
     ]
    }
   ],
   "source": [
    "import sklearn; sklearn.show_versions()"
   ]
  }
 ],
 "metadata": {
  "kernelspec": {
   "display_name": "Python 3",
   "language": "python",
   "name": "python3"
  },
  "language_info": {
   "codemirror_mode": {
    "name": "ipython",
    "version": 3
   },
   "file_extension": ".py",
   "mimetype": "text/x-python",
   "name": "python",
   "nbconvert_exporter": "python",
   "pygments_lexer": "ipython3",
   "version": "3.7.7"
  }
 },
 "nbformat": 4,
 "nbformat_minor": 4
}
