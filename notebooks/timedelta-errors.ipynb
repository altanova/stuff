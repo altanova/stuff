{
 "cells": [
  {
   "cell_type": "code",
   "execution_count": null,
   "id": "animal-pride",
   "metadata": {},
   "outputs": [],
   "source": []
  },
  {
   "cell_type": "code",
   "execution_count": 1,
   "id": "worse-maryland",
   "metadata": {},
   "outputs": [],
   "source": [
    "import pandas as pd\n",
    "import numpy as np\n",
    "import os\n",
    "from importlib import reload\n",
    "import matplotlib.pyplot as plt\n",
    "import seaborn as sns\n",
    "sns.set()\n",
    "# Remove the most annoying pandas warning\n",
    "# A value is trying to be set on a copy of a slice from a DataFrame.\n",
    "pd.options.mode.chained_assignment = None\n"
   ]
  },
  {
   "cell_type": "code",
   "execution_count": 2,
   "id": "domestic-heater",
   "metadata": {},
   "outputs": [
    {
     "data": {
      "text/plain": [
       "'1.19.2'"
      ]
     },
     "execution_count": 2,
     "metadata": {},
     "output_type": "execute_result"
    }
   ],
   "source": [
    "np.__version__"
   ]
  },
  {
   "cell_type": "code",
   "execution_count": 3,
   "id": "fitting-virus",
   "metadata": {},
   "outputs": [
    {
     "data": {
      "text/plain": [
       "'1.2.3'"
      ]
     },
     "execution_count": 3,
     "metadata": {},
     "output_type": "execute_result"
    }
   ],
   "source": [
    "pd.__version__"
   ]
  },
  {
   "cell_type": "markdown",
   "id": "unusual-punishment",
   "metadata": {},
   "source": [
    "### A timedelta conversion error"
   ]
  },
  {
   "cell_type": "markdown",
   "id": "wanted-rescue",
   "metadata": {},
   "source": [
    "The below demos an error that exhibits in the following combination, probably due to low pandas version:\n",
    "    \n",
    "np.__version__    '1.19.4'\n",
    "pd.__version__ '0.25.3'\n",
    "from platform import python_version\n",
    "print(python_version())\n",
    "3.6.9"
   ]
  },
  {
   "cell_type": "code",
   "execution_count": 8,
   "id": "occasional-charles",
   "metadata": {},
   "outputs": [],
   "source": [
    "# output in pandas 0.25.3:\n",
    "#(numpy.timedelta64(86400000000000,'ns'), Timedelta('1 days 00:00:00'))\n",
    "# assertion error\n",
    "\n",
    "# output in pandas 1.2.3:\n",
    "# (Timedelta('1 days 00:00:00'), Timedelta('1 days 00:00:00'))\n",
    "# assertion passed\n",
    "\n",
    "day = pd.Timedelta(1, 'days')\n",
    "np.int64(1) * day, 1 * day\n",
    "\n",
    "assert np.int64(1) * day == 1 * day"
   ]
  },
  {
   "cell_type": "markdown",
   "id": "changing-pricing",
   "metadata": {},
   "source": [
    "As the result, the following two have different results in different versions of pandas:"
   ]
  },
  {
   "cell_type": "code",
   "execution_count": 10,
   "id": "bored-persian",
   "metadata": {},
   "outputs": [
    {
     "data": {
      "text/plain": [
       "[datetime.date(2020, 1, 1),\n",
       " datetime.date(2020, 1, 2),\n",
       " datetime.date(2020, 1, 3)]"
      ]
     },
     "execution_count": 10,
     "metadata": {},
     "output_type": "execute_result"
    }
   ],
   "source": [
    "# this is the same in both versions of pandas:\n",
    "\n",
    "import datetime\n",
    "mydate = datetime.date(2020, 1, 1)\n",
    "[mydate + i * day for i in range(3)]"
   ]
  },
  {
   "cell_type": "code",
   "execution_count": 11,
   "id": "headed-civilization",
   "metadata": {},
   "outputs": [
    {
     "data": {
      "text/plain": [
       "[datetime.date(2020, 1, 1),\n",
       " datetime.date(2020, 1, 2),\n",
       " datetime.date(2020, 1, 3)]"
      ]
     },
     "execution_count": 11,
     "metadata": {},
     "output_type": "execute_result"
    }
   ],
   "source": [
    "# but the following throws\n",
    "# UFuncTypeError: ufunc 'add' cannot use operands with types dtype('O') and dtype('<m8[ns]')\n",
    "# in the earlier version of pandas\n",
    "\n",
    "[mydate + i * day for i in np.arange(3)]"
   ]
  },
  {
   "cell_type": "code",
   "execution_count": 13,
   "id": "adjacent-linux",
   "metadata": {},
   "outputs": [],
   "source": [
    "# solution that should work for both: replace np.arange with range"
   ]
  },
  {
   "cell_type": "code",
   "execution_count": null,
   "id": "increased-treaty",
   "metadata": {},
   "outputs": [],
   "source": []
  }
 ],
 "metadata": {
  "kernelspec": {
   "display_name": "Python 3",
   "language": "python",
   "name": "python3"
  },
  "language_info": {
   "codemirror_mode": {
    "name": "ipython",
    "version": 3
   },
   "file_extension": ".py",
   "mimetype": "text/x-python",
   "name": "python",
   "nbconvert_exporter": "python",
   "pygments_lexer": "ipython3",
   "version": "3.7.7"
  }
 },
 "nbformat": 4,
 "nbformat_minor": 5
}
