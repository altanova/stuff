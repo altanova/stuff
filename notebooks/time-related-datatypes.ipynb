{
 "cells": [
  {
   "cell_type": "markdown",
   "id": "devoted-tennessee",
   "metadata": {},
   "source": [
    "# Time-related variables in python\n",
    "## Basic stuff related to time, and time analysis\n",
    "\n",
    "This workbook is the material for this article: http://ondata.blog/articles/nine-circles-of-hell-time-in-python/"
   ]
  },
  {
   "cell_type": "code",
   "execution_count": 161,
   "id": "controlled-monkey",
   "metadata": {},
   "outputs": [],
   "source": [
    "import pandas as pd, numpy as np\n",
    "import os\n",
    "import matplotlib.pyplot as plt\n",
    "import sys\n",
    "\n",
    "# a utility\n",
    "def show(x, comment = None):\n",
    "    if (comment is not None): \n",
    "        print(comment)\n",
    "    print('variable content: {}'.format(x))\n",
    "    print('variable type: {}\\n'.format(type(x)))"
   ]
  },
  {
   "cell_type": "code",
   "execution_count": 168,
   "id": "headed-spare",
   "metadata": {},
   "outputs": [
    {
     "data": {
      "text/plain": [
       "'1.19.2'"
      ]
     },
     "execution_count": 168,
     "metadata": {},
     "output_type": "execute_result"
    }
   ],
   "source": [
    "np.__version__"
   ]
  },
  {
   "cell_type": "code",
   "execution_count": 169,
   "id": "studied-moral",
   "metadata": {},
   "outputs": [
    {
     "data": {
      "text/plain": [
       "'1.2.3'"
      ]
     },
     "execution_count": 169,
     "metadata": {},
     "output_type": "execute_result"
    }
   ],
   "source": [
    "pd.__version__"
   ]
  },
  {
   "cell_type": "markdown",
   "id": "mathematical-subsection",
   "metadata": {},
   "source": [
    "# 1. Five ways of storing time information"
   ]
  },
  {
   "cell_type": "markdown",
   "id": "excessive-jamaica",
   "metadata": {},
   "source": [
    "### string"
   ]
  },
  {
   "cell_type": "code",
   "execution_count": 170,
   "id": "gentle-blame",
   "metadata": {},
   "outputs": [
    {
     "name": "stdout",
     "output_type": "stream",
     "text": [
      "variable content: 2021-04-13 15:33\n",
      "variable type: <class 'str'>\n",
      "\n"
     ]
    }
   ],
   "source": [
    "# string\n",
    "stamp = '2021-04-13 15:33'\n",
    "show(stamp)"
   ]
  },
  {
   "cell_type": "markdown",
   "id": "designing-ozone",
   "metadata": {},
   "source": [
    "### python native datetime"
   ]
  },
  {
   "cell_type": "code",
   "execution_count": 205,
   "id": "valuable-gabriel",
   "metadata": {},
   "outputs": [
    {
     "name": "stdout",
     "output_type": "stream",
     "text": [
      "variable content: 2021-04-13 00:00:00\n",
      "variable type: <class 'datetime.datetime'>\n",
      "\n"
     ]
    }
   ],
   "source": [
    "# python native: datetime\n",
    "from datetime import datetime\n",
    "stamp_datetime = datetime(year=2021, month=4, day=13)\n",
    "show(stamp_datetime)"
   ]
  },
  {
   "cell_type": "markdown",
   "id": "horizontal-blend",
   "metadata": {},
   "source": [
    "### numpy datetime64"
   ]
  },
  {
   "cell_type": "code",
   "execution_count": 172,
   "id": "invalid-fairy",
   "metadata": {},
   "outputs": [
    {
     "name": "stdout",
     "output_type": "stream",
     "text": [
      "variable content: 2021-04-13T15:33\n",
      "variable type: <class 'numpy.datetime64'>\n",
      "variable dtype: datetime64[m]\n",
      "\n",
      "Enforcing time unit:\n",
      "\n",
      "When unit is nanosecond:\n",
      "variable content: 2021-04-13T15:33:00.000000000\n",
      "variable type: <class 'numpy.datetime64'>\n",
      "variable dtype: datetime64[ns]\n",
      "\n",
      "When unit is hour:\n",
      "variable content: 2021-04-13T15\n",
      "variable type: <class 'numpy.datetime64'>\n",
      "variable dtype: datetime64[h]\n",
      "\n",
      "When unit is day:\n",
      "variable content: 2021-04-13\n",
      "variable type: <class 'numpy.datetime64'>\n",
      "variable dtype: datetime64[D]\n",
      "\n"
     ]
    }
   ],
   "source": [
    "# numpy: datetime64\n",
    "def show_np(x, comment = None):\n",
    "    if (comment is not None): \n",
    "        print(comment)\n",
    "    print('variable content: {}'.format(x))\n",
    "    print('variable type: {}'.format(type(x)))\n",
    "    print('variable dtype: {}\\n'.format(x.dtype))\n",
    "    \n",
    "import numpy as np\n",
    "stamp_np = np.datetime64('2021-04-13 15:33')\n",
    "show_np(stamp_np)\n",
    "print('Enforcing time unit:\\n')\n",
    "show_np(np.datetime64('2021-04-13 15:33', 'ns'), 'When unit is nanosecond:')\n",
    "show_np(np.datetime64('2021-04-13 15:33', 'h'), 'When unit is hour:')\n",
    "show_np(np.datetime64('2021-04-13 15:33', 'D'), 'When unit is day:')\n"
   ]
  },
  {
   "cell_type": "code",
   "execution_count": 173,
   "id": "infinite-racing",
   "metadata": {},
   "outputs": [
    {
     "name": "stdout",
     "output_type": "stream",
     "text": [
      "datetime64[m]\n"
     ]
    },
    {
     "data": {
      "text/plain": [
       "dtype('<M8[m]')"
      ]
     },
     "execution_count": 173,
     "metadata": {},
     "output_type": "execute_result"
    }
   ],
   "source": [
    "print(stamp_np.dtype)\n",
    "stamp_np.dtype"
   ]
  },
  {
   "cell_type": "code",
   "execution_count": 72,
   "id": "flexible-teddy",
   "metadata": {},
   "outputs": [],
   "source": [
    "# then why the same function returns two different types, depending on situation?\n",
    "\n",
    "# as explained: https://stackoverflow.com/questions/29206612/difference-between-data-type-datetime64ns-and-m8ns\n",
    "# datetime64[ns] is a general dtype, while <M8[ns] is a specific dtype.\n",
    "# On a machine whose byte order is little endian, there is no difference between np.dtype('datetime64[ns]') and np.dtype('<M8[ns]')\n",
    "# However, on a big endian machine, np.dtype('datetime64[ns]') would equal np.dtype('>M8[ns]')\n",
    "# So datetime64[ns] maps to either <M8[ns] or >M8[ns] depending on the endian-ness of the machine."
   ]
  },
  {
   "cell_type": "code",
   "execution_count": 73,
   "id": "occasional-belgium",
   "metadata": {},
   "outputs": [
    {
     "data": {
      "text/plain": [
       "True"
      ]
     },
     "execution_count": 73,
     "metadata": {},
     "output_type": "execute_result"
    }
   ],
   "source": [
    "# indeed:\n",
    "np.dtype('datetime64[ns]') == np.dtype('<M8[ns]')"
   ]
  },
  {
   "cell_type": "markdown",
   "id": "guided-generation",
   "metadata": {},
   "source": [
    "### pandas Timestamp"
   ]
  },
  {
   "cell_type": "code",
   "execution_count": 175,
   "id": "underlying-determination",
   "metadata": {},
   "outputs": [
    {
     "data": {
      "text/plain": [
       "(Timestamp('2021-04-13 15:33:00'), pandas._libs.tslibs.timestamps.Timestamp)"
      ]
     },
     "execution_count": 175,
     "metadata": {},
     "output_type": "execute_result"
    }
   ],
   "source": [
    "import pandas as pd\n",
    "stamp_pandas = pd.to_datetime('2021-04-13 15:33')\n",
    "stamp_pandas, type(stamp_pandas)"
   ]
  },
  {
   "cell_type": "code",
   "execution_count": 176,
   "id": "tired-difference",
   "metadata": {},
   "outputs": [
    {
     "name": "stdout",
     "output_type": "stream",
     "text": [
      "variable content: 2021-04-13 15:33:00\n",
      "variable type: <class 'pandas._libs.tslibs.timestamps.Timestamp'>\n",
      "\n"
     ]
    }
   ],
   "source": [
    "show(stamp_pandas)"
   ]
  },
  {
   "cell_type": "code",
   "execution_count": 177,
   "id": "multiple-bride",
   "metadata": {},
   "outputs": [
    {
     "data": {
      "text/plain": [
       "datetime.datetime(2021, 4, 13, 15, 33)"
      ]
     },
     "execution_count": 177,
     "metadata": {},
     "output_type": "execute_result"
    }
   ],
   "source": [
    "# converting back to native\n",
    "stamp_pandas.to_pydatetime()\n",
    "\n",
    "# note: in previous version of Pandas, this was called Timestamp.to_datetime(), causing confusion. Now it is py_datetime()"
   ]
  },
  {
   "cell_type": "markdown",
   "id": "intensive-contributor",
   "metadata": {},
   "source": [
    "### Unix (POSIX) time"
   ]
  },
  {
   "cell_type": "code",
   "execution_count": 178,
   "id": "dress-binary",
   "metadata": {},
   "outputs": [],
   "source": [
    "# the simplest but least readable form: integer number of seconds from the Epoch."
   ]
  },
  {
   "cell_type": "code",
   "execution_count": 179,
   "id": "significant-customs",
   "metadata": {},
   "outputs": [
    {
     "data": {
      "text/plain": [
       "1608336000"
      ]
     },
     "execution_count": 179,
     "metadata": {},
     "output_type": "execute_result"
    }
   ],
   "source": [
    "# let's calculate POSIX time for 1st January 2021\n",
    "stamp_posix = (2021 - 1970) * 365 * 24 * 60 * 60\n",
    "stamp_posix"
   ]
  },
  {
   "cell_type": "code",
   "execution_count": 180,
   "id": "popular-niger",
   "metadata": {},
   "outputs": [
    {
     "name": "stdout",
     "output_type": "stream",
     "text": [
      "variable content: 1608336000\n",
      "variable type: <class 'int'>\n",
      "\n"
     ]
    }
   ],
   "source": [
    "show(stamp_posix)"
   ]
  },
  {
   "cell_type": "markdown",
   "id": "charming-strand",
   "metadata": {},
   "source": [
    "# 2. converting to Unix time"
   ]
  },
  {
   "cell_type": "markdown",
   "id": "funky-vision",
   "metadata": {},
   "source": [
    "### Pandas Timestamp to Unix time (POSIX time)"
   ]
  },
  {
   "cell_type": "code",
   "execution_count": 181,
   "id": "criminal-welsh",
   "metadata": {},
   "outputs": [],
   "source": [
    "# to confuse you, the function to convert time to an integer is also called. timestamp()\n",
    "# This is referred to as 'POSIX timestamp'\n",
    "# So: pd.Timestamp = Pandas replacement for python datetime.datetime object.\n",
    "# pd.Timestamp.timestamp() = POSIX timestamp "
   ]
  },
  {
   "cell_type": "code",
   "execution_count": 182,
   "id": "protective-pride",
   "metadata": {},
   "outputs": [
    {
     "data": {
      "text/plain": [
       "1618327980.0"
      ]
     },
     "execution_count": 182,
     "metadata": {},
     "output_type": "execute_result"
    }
   ],
   "source": [
    "posix_from_pandas = stamp_pandas.timestamp()\n",
    "posix_from_pandas"
   ]
  },
  {
   "cell_type": "markdown",
   "id": "elder-abortion",
   "metadata": {},
   "source": [
    "### numpy timedate64 to Unix time (POSIX time)"
   ]
  },
  {
   "cell_type": "code",
   "execution_count": 183,
   "id": "dated-network",
   "metadata": {},
   "outputs": [
    {
     "data": {
      "text/plain": [
       "numpy.datetime64('2021-04-13T15:33')"
      ]
     },
     "execution_count": 183,
     "metadata": {},
     "output_type": "execute_result"
    }
   ],
   "source": [
    "stamp_np"
   ]
  },
  {
   "cell_type": "code",
   "execution_count": 184,
   "id": "running-funds",
   "metadata": {},
   "outputs": [
    {
     "data": {
      "text/plain": [
       "dtype('<M8[m]')"
      ]
     },
     "execution_count": 184,
     "metadata": {},
     "output_type": "execute_result"
    }
   ],
   "source": [
    "# converting from timedate64 to posix time implies checking the unit and then simple mathematics\n",
    "stamp_np.dtype"
   ]
  },
  {
   "cell_type": "code",
   "execution_count": 185,
   "id": "through-tiger",
   "metadata": {},
   "outputs": [
    {
     "name": "stdout",
     "output_type": "stream",
     "text": [
      "datetime64[m]\n"
     ]
    }
   ],
   "source": [
    "  print(stamp_np.dtype)"
   ]
  },
  {
   "cell_type": "code",
   "execution_count": 186,
   "id": "existing-shoulder",
   "metadata": {},
   "outputs": [
    {
     "name": "stdout",
     "output_type": "stream",
     "text": [
      "variable content: 1618327980\n",
      "variable type: <class 'numpy.uint64'>\n",
      "variable dtype: uint64\n",
      "\n"
     ]
    }
   ],
   "source": [
    "# since the unit was minutes, then multiplying this by 60 gives seconds from Epoch\n",
    "posix_from_numpy_minutes = stamp_np.astype('uint64') * np.uint64(60)\n",
    "show_np(posix_from_numpy_minutes)"
   ]
  },
  {
   "cell_type": "code",
   "execution_count": 192,
   "id": "wound-helen",
   "metadata": {},
   "outputs": [],
   "source": [
    "assert posix_from_pandas == posix_from_numpy_minutes"
   ]
  },
  {
   "cell_type": "code",
   "execution_count": 193,
   "id": "prompt-clock",
   "metadata": {},
   "outputs": [
    {
     "data": {
      "text/plain": [
       "numpy.datetime64('2021-04-13T15:33:00')"
      ]
     },
     "execution_count": 193,
     "metadata": {},
     "output_type": "execute_result"
    }
   ],
   "source": [
    "# then it is better to enforce the unit as seconds upfront.\n",
    "# This results in dtype that stores directly the seconds since Epoch\n",
    "stamp_in_seconds = np.datetime64(stamp, 's')\n",
    "stamp_in_seconds"
   ]
  },
  {
   "cell_type": "code",
   "execution_count": 194,
   "id": "architectural-strength",
   "metadata": {},
   "outputs": [
    {
     "name": "stdout",
     "output_type": "stream",
     "text": [
      "variable content: 1618327980\n",
      "variable type: <class 'numpy.uint64'>\n",
      "variable dtype: uint64\n",
      "\n"
     ]
    }
   ],
   "source": [
    "# now conversion is easy\n",
    "posix_timestamp = stamp_in_seconds.astype('uint64')\n",
    "show_np(posix_timestamp)"
   ]
  },
  {
   "cell_type": "code",
   "execution_count": 195,
   "id": "imported-operator",
   "metadata": {},
   "outputs": [],
   "source": [
    "assert posix_from_pandas == posix_from_numpy_seconds"
   ]
  },
  {
   "cell_type": "markdown",
   "id": "intimate-means",
   "metadata": {},
   "source": [
    "# 3. working with lists of time stamps"
   ]
  },
  {
   "cell_type": "code",
   "execution_count": 259,
   "id": "special-mongolia",
   "metadata": {},
   "outputs": [],
   "source": [
    "# regular list of strings\n",
    "l = ['2020-09-01 00:37:07', '2020-10-02 00:47:17', '2020-11-22 01:25:10']"
   ]
  },
  {
   "cell_type": "code",
   "execution_count": 260,
   "id": "signal-delta",
   "metadata": {},
   "outputs": [
    {
     "data": {
      "text/plain": [
       "array(['2020-09-01T00:37:07', '2020-10-02T00:47:17',\n",
       "       '2020-11-22T01:25:10'], dtype='datetime64[s]')"
      ]
     },
     "execution_count": 260,
     "metadata": {},
     "output_type": "execute_result"
    }
   ],
   "source": [
    "# convert this to numpy will reveal time unit as dtype\n",
    "to64 = np.vectorize(lambda x: np.datetime64(x))\n",
    "to64(l)"
   ]
  },
  {
   "cell_type": "code",
   "execution_count": 261,
   "id": "bacterial-monaco",
   "metadata": {},
   "outputs": [
    {
     "data": {
      "text/plain": [
       "array(['2020-09-01T00:37:07.000000000', '2020-10-02T00:47:17.000000000',\n",
       "       '2020-11-22T01:25:10.000000000'], dtype='datetime64[ns]')"
      ]
     },
     "execution_count": 261,
     "metadata": {},
     "output_type": "execute_result"
    }
   ],
   "source": [
    "# for example, enforcing the unit ns in each datetime object\n",
    "# will effect in creation of an array of dtype = 'datetime64[ns]'\n",
    "to64 = np.vectorize(lambda x: np.datetime64(x, 'ns'))\n",
    "to64(l)"
   ]
  },
  {
   "cell_type": "code",
   "execution_count": 262,
   "id": "invalid-cheese",
   "metadata": {},
   "outputs": [
    {
     "data": {
      "text/plain": [
       "DatetimeIndex(['2020-09-01 00:37:07', '2020-10-02 00:47:17',\n",
       "               '2020-11-22 01:25:10'],\n",
       "              dtype='datetime64[ns]', freq=None)"
      ]
     },
     "execution_count": 262,
     "metadata": {},
     "output_type": "execute_result"
    }
   ],
   "source": [
    "#now, how to convert this to pandas?\n",
    "\n",
    "# aparently, pandas to_datetime behaves differently, depending on type of argument:\n",
    "# following documentation: https://pandas.pydata.org/pandas-docs/stable/reference/api/pandas.to_datetime.html\n",
    "#If parsing succeeded. Return type depends on input:\n",
    "#    list-like: DatetimeIndex\n",
    "#    Series: Series of datetime64 dtype\n",
    "#    scalar: Timestamp\n",
    "\n",
    "\n",
    "# therefore, pd.to_datetime applied to list will return DatetimeIndex with dtype='datetime64[ns]'\n",
    "dti = pd.to_datetime(l, format='%Y-%m-%d %H:%M:%S')\n",
    "dti"
   ]
  },
  {
   "cell_type": "code",
   "execution_count": 264,
   "id": "dominican-milan",
   "metadata": {},
   "outputs": [
    {
     "data": {
      "text/plain": [
       "pandas.core.indexes.datetimes.DatetimeIndex"
      ]
     },
     "execution_count": 264,
     "metadata": {},
     "output_type": "execute_result"
    }
   ],
   "source": [
    "type(dti)"
   ]
  },
  {
   "cell_type": "code",
   "execution_count": 283,
   "id": "expected-affiliate",
   "metadata": {},
   "outputs": [
    {
     "data": {
      "text/plain": [
       "dtype('<M8[ns]')"
      ]
     },
     "execution_count": 283,
     "metadata": {},
     "output_type": "execute_result"
    }
   ],
   "source": [
    "dti.dtype"
   ]
  },
  {
   "cell_type": "code",
   "execution_count": 286,
   "id": "obvious-episode",
   "metadata": {},
   "outputs": [
    {
     "data": {
      "text/plain": [
       "pandas._libs.tslibs.timestamps.Timestamp"
      ]
     },
     "execution_count": 286,
     "metadata": {},
     "output_type": "execute_result"
    }
   ],
   "source": [
    "type(dti[0])"
   ]
  },
  {
   "cell_type": "code",
   "execution_count": 290,
   "id": "married-playback",
   "metadata": {},
   "outputs": [
    {
     "data": {
      "text/plain": [
       "0   2020-09-01 00:37:07\n",
       "1   2020-10-02 00:47:17\n",
       "2   2020-11-22 01:25:10\n",
       "Name: stamps, dtype: datetime64[ns]"
      ]
     },
     "execution_count": 290,
     "metadata": {},
     "output_type": "execute_result"
    }
   ],
   "source": [
    "# now let's verify how the same function behaves when results are stored as DataFrame column\n",
    "df = pd.DataFrame()\n",
    "df['stamps'] = pd.to_datetime(l, format='%Y-%m-%d %H:%M:%S')\n",
    "s = df['stamps']\n",
    "s"
   ]
  },
  {
   "cell_type": "code",
   "execution_count": 291,
   "id": "industrial-junior",
   "metadata": {},
   "outputs": [
    {
     "data": {
      "text/plain": [
       "pandas.core.series.Series"
      ]
     },
     "execution_count": 291,
     "metadata": {},
     "output_type": "execute_result"
    }
   ],
   "source": [
    "type(s)"
   ]
  },
  {
   "cell_type": "code",
   "execution_count": 292,
   "id": "interpreted-opinion",
   "metadata": {},
   "outputs": [
    {
     "data": {
      "text/plain": [
       "dtype('<M8[ns]')"
      ]
     },
     "execution_count": 292,
     "metadata": {},
     "output_type": "execute_result"
    }
   ],
   "source": [
    "s.dtype"
   ]
  },
  {
   "cell_type": "code",
   "execution_count": 293,
   "id": "daily-french",
   "metadata": {},
   "outputs": [
    {
     "data": {
      "text/plain": [
       "pandas._libs.tslibs.timestamps.Timestamp"
      ]
     },
     "execution_count": 293,
     "metadata": {},
     "output_type": "execute_result"
    }
   ],
   "source": [
    "type(s[0])"
   ]
  },
  {
   "cell_type": "code",
   "execution_count": 305,
   "id": "interested-advertiser",
   "metadata": {},
   "outputs": [
    {
     "data": {
      "text/plain": [
       "stamps    datetime64[ns]\n",
       "dtype: object"
      ]
     },
     "execution_count": 305,
     "metadata": {},
     "output_type": "execute_result"
    }
   ],
   "source": [
    "# to confuse you even more\n",
    "df.dtypes"
   ]
  },
  {
   "cell_type": "code",
   "execution_count": 309,
   "id": "interstate-depression",
   "metadata": {},
   "outputs": [
    {
     "data": {
      "text/plain": [
       "array([dtype('<M8[ns]')], dtype=object)"
      ]
     },
     "execution_count": 309,
     "metadata": {},
     "output_type": "execute_result"
    }
   ],
   "source": [
    "a = df.dtypes\n",
    "a.values"
   ]
  },
  {
   "cell_type": "code",
   "execution_count": 311,
   "id": "international-fifth",
   "metadata": {},
   "outputs": [
    {
     "name": "stdout",
     "output_type": "stream",
     "text": [
      "datetime64[ns]\n"
     ]
    }
   ],
   "source": [
    "print(np.dtype('<M8[ns]'))"
   ]
  },
  {
   "cell_type": "code",
   "execution_count": 301,
   "id": "amateur-triangle",
   "metadata": {},
   "outputs": [
    {
     "data": {
      "text/plain": [
       "(True, True, True)"
      ]
     },
     "execution_count": 301,
     "metadata": {},
     "output_type": "execute_result"
    }
   ],
   "source": [
    "# are the two results equal?\n",
    "# the content is...\n",
    "dti[0] == s[0], dti[1] == s[1], dti[2] == s[2]"
   ]
  },
  {
   "cell_type": "code",
   "execution_count": 303,
   "id": "wooden-botswana",
   "metadata": {},
   "outputs": [
    {
     "data": {
      "text/plain": [
       "False"
      ]
     },
     "execution_count": 303,
     "metadata": {},
     "output_type": "execute_result"
    }
   ],
   "source": [
    "# ...but the overall data structures aren't because of the type\n",
    "dti.equals(s)"
   ]
  },
  {
   "cell_type": "code",
   "execution_count": 324,
   "id": "cathedral-reasoning",
   "metadata": {},
   "outputs": [
    {
     "data": {
      "text/plain": [
       "DatetimeIndex(['2020-09-01 00:37:07', '2020-10-02 00:47:17',\n",
       "               '2020-11-22 01:25:10'],\n",
       "              dtype='datetime64[ns]', freq=None)"
      ]
     },
     "execution_count": 324,
     "metadata": {},
     "output_type": "execute_result"
    }
   ],
   "source": [
    "# but if you convert the type, they will be equal\n",
    "# here is how to convert Series of datetimes to DateTimeIndex\n",
    "dti_from_s = pd.to_datetime(s.values)\n",
    "dti_from_s"
   ]
  },
  {
   "cell_type": "code",
   "execution_count": 325,
   "id": "dimensional-dodge",
   "metadata": {},
   "outputs": [
    {
     "data": {
      "text/plain": [
       "True"
      ]
     },
     "execution_count": 325,
     "metadata": {},
     "output_type": "execute_result"
    }
   ],
   "source": [
    "# now both are equal\n",
    "dti.equals(dti_from_s)"
   ]
  },
  {
   "cell_type": "code",
   "execution_count": 222,
   "id": "aerial-bicycle",
   "metadata": {},
   "outputs": [
    {
     "data": {
      "text/plain": [
       "array([datetime.datetime(2020, 9, 1, 0, 37, 7),\n",
       "       datetime.datetime(2020, 10, 2, 0, 47, 17),\n",
       "       datetime.datetime(2020, 11, 22, 1, 25, 10)], dtype=object)"
      ]
     },
     "execution_count": 222,
     "metadata": {},
     "output_type": "execute_result"
    }
   ],
   "source": [
    "# and how to convert this to Python native datetime?\n",
    "# converting this to python native datetime format will return np.ndarray of datetime.datetime\n",
    "# (just for completeness, because I rarely use datetime.datetime)\n",
    "a = dti.to_pydatetime()\n",
    "a"
   ]
  },
  {
   "cell_type": "code",
   "execution_count": 223,
   "id": "broke-maine",
   "metadata": {},
   "outputs": [
    {
     "data": {
      "text/plain": [
       "(numpy.ndarray, dtype('O'))"
      ]
     },
     "execution_count": 223,
     "metadata": {},
     "output_type": "execute_result"
    }
   ],
   "source": [
    "type(a), a.dtype"
   ]
  },
  {
   "cell_type": "code",
   "execution_count": 224,
   "id": "legitimate-pattern",
   "metadata": {},
   "outputs": [],
   "source": [
    "# Now prepare for a shock: how to convert the list of timestamps to Unix time?"
   ]
  },
  {
   "cell_type": "markdown",
   "id": "automotive-seminar",
   "metadata": {},
   "source": [
    "# A bit of a nightmare...\n",
    "### some of the futile attempts to convert series of timestamps to numbers"
   ]
  },
  {
   "cell_type": "code",
   "execution_count": 225,
   "id": "comic-turkish",
   "metadata": {},
   "outputs": [],
   "source": [
    "# let's prepare some raw data first\n",
    "\n",
    "source_short = ['2020-10-15 09:56:56', '2020-11-02 22:18:00',\n",
    "       '2020-10-28 04:23:36', '2020-10-16 21:38:27',\n",
    "       '2020-11-07 14:04:26', '2020-10-22 02:22:48',\n",
    "       '2020-10-08 15:43:56', '2020-10-16 00:59:35',\n",
    "       '2020-10-13 22:27:10', '2020-10-07 08:57:40',\n",
    "       '2020-11-05 22:30:13', '2020-10-08 04:14:31',\n",
    "       '2020-10-13 22:40:27', '2020-11-19 08:22:59',\n",
    "       '2020-11-20 23:27:20', '2020-11-22 07:02:46',\n",
    "       '2020-10-20 22:08:36', '2020-11-13 03:46:37',\n",
    "       '2020-10-25 12:56:39', '2020-11-11 08:15:13',\n",
    "       '2020-11-25 03:45:36', '2020-10-25 02:25:24',\n",
    "       '2020-10-27 03:35:26', '2020-10-13 03:43:37',\n",
    "       '2020-12-01 17:10:23', '2020-10-29 09:13:03',\n",
    "       '2020-10-27 02:03:44', '2020-11-02 02:09:14',\n",
    "       '2020-10-23 17:08:41', '2020-10-13 22:16:19',\n",
    "       '2020-11-28 06:55:57', '2020-10-31 17:34:50',\n",
    "       '2020-10-26 10:56:33', '2020-10-25 13:38:49',\n",
    "       '2020-11-07 08:01:35', '2020-10-08 04:22:14',\n",
    "       '2020-10-30 19:52:58', '2020-11-20 08:09:29',\n",
    "       '2020-10-08 08:42:26', '2020-11-14 11:46:25',\n",
    "       '2020-10-18 22:30:01', '2020-10-28 08:25:36',\n",
    "       '2020-10-19 03:44:04', '2020-11-12 19:41:42',\n",
    "       '2020-11-12 02:36:31', '2020-11-26 13:46:52',\n",
    "       '2020-10-08 16:03:06', '2020-12-01 06:46:28',\n",
    "       '2020-10-16 10:51:53', '2020-11-16 10:44:17']"
   ]
  },
  {
   "cell_type": "code",
   "execution_count": 357,
   "id": "australian-venezuela",
   "metadata": {},
   "outputs": [
    {
     "data": {
      "text/plain": [
       "str"
      ]
     },
     "execution_count": 357,
     "metadata": {},
     "output_type": "execute_result"
    }
   ],
   "source": [
    "d = source_short[0]\n",
    "type(d)"
   ]
  },
  {
   "cell_type": "code",
   "execution_count": 364,
   "id": "fitting-freedom",
   "metadata": {},
   "outputs": [
    {
     "data": {
      "text/plain": [
       "array([ 0,  1,  2,  3,  4,  5,  6,  7,  8,  9, 10, 11, 12, 13, 14, 15, 16,\n",
       "       17, 18, 19, 20, 21, 22, 23, 24, 25, 26, 27, 28, 29, 30, 31, 32, 33,\n",
       "       34, 35, 36, 37, 38, 39, 40, 41, 42, 43, 44, 45, 46, 47, 48, 49, 50,\n",
       "       51, 52, 53, 54, 55, 56, 57, 58, 59, 60, 61, 62, 63, 64, 65, 66, 67,\n",
       "       68, 69, 70, 71, 72, 73, 74, 75, 76, 77, 78, 79, 80, 81, 82, 83, 84,\n",
       "       85, 86, 87, 88, 89, 90, 91, 92, 93, 94, 95, 96, 97, 98, 99])"
      ]
     },
     "execution_count": 364,
     "metadata": {},
     "output_type": "execute_result"
    }
   ],
   "source": [
    "np.arange(100)"
   ]
  },
  {
   "cell_type": "code",
   "execution_count": 374,
   "id": "equipped-insulin",
   "metadata": {
    "tags": []
   },
   "outputs": [
    {
     "data": {
      "text/plain": [
       "array([2.07425951e+01, 5.00143321e+01, 5.98726312e+01, ...,\n",
       "       1.00069904e+05, 1.00091702e+05, 1.00026018e+05])"
      ]
     },
     "execution_count": 374,
     "metadata": {},
     "output_type": "execute_result"
    }
   ],
   "source": [
    "\n",
    "\n"
   ]
  },
  {
   "cell_type": "code",
   "execution_count": 402,
   "id": "republican-brown",
   "metadata": {},
   "outputs": [],
   "source": [
    "# aternatively, here is an artificially generated longer source of 100K elements\n",
    "# starts at the same time, and each will be increased by 1 minute with random noise of up to 100 minutes\n",
    "\n",
    "import random\n",
    "\n",
    "size = 1000000\n",
    "steps = np.arange(size)\n",
    "noise = [random.random() * 100 for i in range(size)]\n",
    "numbers = steps + noise\n",
    "\n",
    "start_date = pd.to_datetime(source_short[0])\n",
    "source_long = start_date + pd.to_timedelta(numbers, 'm')\n",
    "# cast to list of strings\n",
    "source_long = [str(i) for i in source_long]\n"
   ]
  },
  {
   "cell_type": "code",
   "execution_count": 403,
   "id": "sophisticated-oakland",
   "metadata": {},
   "outputs": [],
   "source": [
    "# pick the source you like\n",
    "\n",
    "#source = source_short\n",
    "source = source_long"
   ]
  },
  {
   "cell_type": "code",
   "execution_count": 404,
   "id": "durable-medium",
   "metadata": {},
   "outputs": [],
   "source": [
    "# this is our data\n",
    "df = pd.DataFrame()\n",
    "format='%Y-%m-%d %H:%M:%S'\n",
    "df['stamps'] = pd.to_datetime(source, format=format)\n",
    "data = df['stamps']\n",
    "data1 = data"
   ]
  },
  {
   "cell_type": "code",
   "execution_count": 405,
   "id": "recreational-baseline",
   "metadata": {},
   "outputs": [
    {
     "data": {
      "text/plain": [
       "(0   2020-10-15 10:39:27.013349240\n",
       " 1   2020-10-15 10:35:37.616540600\n",
       " 2   2020-10-15 10:50:38.049376520\n",
       " 3   2020-10-15 11:22:58.646504600\n",
       " 4   2020-10-15 10:27:35.218191140\n",
       " Name: stamps, dtype: datetime64[ns],\n",
       " pandas.core.series.Series,\n",
       " pandas._libs.tslibs.timestamps.Timestamp)"
      ]
     },
     "execution_count": 405,
     "metadata": {},
     "output_type": "execute_result"
    }
   ],
   "source": [
    "data.head(), type(data), type(data[0])"
   ]
  },
  {
   "cell_type": "code",
   "execution_count": 406,
   "id": "competent-agency",
   "metadata": {},
   "outputs": [],
   "source": [
    "# let's try various attempts to convert oure series to POSIX..."
   ]
  },
  {
   "cell_type": "code",
   "execution_count": 407,
   "id": "criminal-theme",
   "metadata": {
    "collapsed": true,
    "jupyter": {
     "outputs_hidden": true
    },
    "tags": []
   },
   "outputs": [
    {
     "ename": "AttributeError",
     "evalue": "'numpy.datetime64' object has no attribute 'timestamp'",
     "output_type": "error",
     "traceback": [
      "\u001b[1;31m---------------------------------------------------------------------------\u001b[0m",
      "\u001b[1;31mAttributeError\u001b[0m                            Traceback (most recent call last)",
      "\u001b[1;32m<ipython-input-407-f0f842d068f8>\u001b[0m in \u001b[0;36m<module>\u001b[1;34m\u001b[0m\n\u001b[0;32m      1\u001b[0m \u001b[1;31m# how about this?\u001b[0m\u001b[1;33m\u001b[0m\u001b[1;33m\u001b[0m\u001b[1;33m\u001b[0m\u001b[0m\n\u001b[0;32m      2\u001b[0m \u001b[0mto_timestamp\u001b[0m \u001b[1;33m=\u001b[0m \u001b[0mnp\u001b[0m\u001b[1;33m.\u001b[0m\u001b[0mvectorize\u001b[0m\u001b[1;33m(\u001b[0m\u001b[1;32mlambda\u001b[0m \u001b[0mx\u001b[0m\u001b[1;33m:\u001b[0m \u001b[0mx\u001b[0m\u001b[1;33m.\u001b[0m\u001b[0mtimestamp\u001b[0m\u001b[1;33m(\u001b[0m\u001b[1;33m)\u001b[0m\u001b[1;33m)\u001b[0m\u001b[1;33m\u001b[0m\u001b[1;33m\u001b[0m\u001b[0m\n\u001b[1;32m----> 3\u001b[1;33m \u001b[0mts_data\u001b[0m \u001b[1;33m=\u001b[0m \u001b[0mto_timestamp\u001b[0m\u001b[1;33m(\u001b[0m\u001b[0mdata\u001b[0m\u001b[1;33m)\u001b[0m\u001b[1;33m\u001b[0m\u001b[1;33m\u001b[0m\u001b[0m\n\u001b[0m\u001b[0;32m      4\u001b[0m \u001b[1;33m\u001b[0m\u001b[0m\n\u001b[0;32m      5\u001b[0m \u001b[1;31m# the reason this won't work is that vectorize does not see our data as not pd.Timestamp, but as np.datetime64\u001b[0m\u001b[1;33m\u001b[0m\u001b[1;33m\u001b[0m\u001b[1;33m\u001b[0m\u001b[0m\n",
      "\u001b[1;32m~\\AppData\\Local\\Continuum\\anaconda3\\lib\\site-packages\\numpy\\lib\\function_base.py\u001b[0m in \u001b[0;36m__call__\u001b[1;34m(self, *args, **kwargs)\u001b[0m\n\u001b[0;32m   2106\u001b[0m             \u001b[0mvargs\u001b[0m\u001b[1;33m.\u001b[0m\u001b[0mextend\u001b[0m\u001b[1;33m(\u001b[0m\u001b[1;33m[\u001b[0m\u001b[0mkwargs\u001b[0m\u001b[1;33m[\u001b[0m\u001b[0m_n\u001b[0m\u001b[1;33m]\u001b[0m \u001b[1;32mfor\u001b[0m \u001b[0m_n\u001b[0m \u001b[1;32min\u001b[0m \u001b[0mnames\u001b[0m\u001b[1;33m]\u001b[0m\u001b[1;33m)\u001b[0m\u001b[1;33m\u001b[0m\u001b[1;33m\u001b[0m\u001b[0m\n\u001b[0;32m   2107\u001b[0m \u001b[1;33m\u001b[0m\u001b[0m\n\u001b[1;32m-> 2108\u001b[1;33m         \u001b[1;32mreturn\u001b[0m \u001b[0mself\u001b[0m\u001b[1;33m.\u001b[0m\u001b[0m_vectorize_call\u001b[0m\u001b[1;33m(\u001b[0m\u001b[0mfunc\u001b[0m\u001b[1;33m=\u001b[0m\u001b[0mfunc\u001b[0m\u001b[1;33m,\u001b[0m \u001b[0margs\u001b[0m\u001b[1;33m=\u001b[0m\u001b[0mvargs\u001b[0m\u001b[1;33m)\u001b[0m\u001b[1;33m\u001b[0m\u001b[1;33m\u001b[0m\u001b[0m\n\u001b[0m\u001b[0;32m   2109\u001b[0m \u001b[1;33m\u001b[0m\u001b[0m\n\u001b[0;32m   2110\u001b[0m     \u001b[1;32mdef\u001b[0m \u001b[0m_get_ufunc_and_otypes\u001b[0m\u001b[1;33m(\u001b[0m\u001b[0mself\u001b[0m\u001b[1;33m,\u001b[0m \u001b[0mfunc\u001b[0m\u001b[1;33m,\u001b[0m \u001b[0margs\u001b[0m\u001b[1;33m)\u001b[0m\u001b[1;33m:\u001b[0m\u001b[1;33m\u001b[0m\u001b[1;33m\u001b[0m\u001b[0m\n",
      "\u001b[1;32m~\\AppData\\Local\\Continuum\\anaconda3\\lib\\site-packages\\numpy\\lib\\function_base.py\u001b[0m in \u001b[0;36m_vectorize_call\u001b[1;34m(self, func, args)\u001b[0m\n\u001b[0;32m   2184\u001b[0m             \u001b[0mres\u001b[0m \u001b[1;33m=\u001b[0m \u001b[0mfunc\u001b[0m\u001b[1;33m(\u001b[0m\u001b[1;33m)\u001b[0m\u001b[1;33m\u001b[0m\u001b[1;33m\u001b[0m\u001b[0m\n\u001b[0;32m   2185\u001b[0m         \u001b[1;32melse\u001b[0m\u001b[1;33m:\u001b[0m\u001b[1;33m\u001b[0m\u001b[1;33m\u001b[0m\u001b[0m\n\u001b[1;32m-> 2186\u001b[1;33m             \u001b[0mufunc\u001b[0m\u001b[1;33m,\u001b[0m \u001b[0motypes\u001b[0m \u001b[1;33m=\u001b[0m \u001b[0mself\u001b[0m\u001b[1;33m.\u001b[0m\u001b[0m_get_ufunc_and_otypes\u001b[0m\u001b[1;33m(\u001b[0m\u001b[0mfunc\u001b[0m\u001b[1;33m=\u001b[0m\u001b[0mfunc\u001b[0m\u001b[1;33m,\u001b[0m \u001b[0margs\u001b[0m\u001b[1;33m=\u001b[0m\u001b[0margs\u001b[0m\u001b[1;33m)\u001b[0m\u001b[1;33m\u001b[0m\u001b[1;33m\u001b[0m\u001b[0m\n\u001b[0m\u001b[0;32m   2187\u001b[0m \u001b[1;33m\u001b[0m\u001b[0m\n\u001b[0;32m   2188\u001b[0m             \u001b[1;31m# Convert args to object arrays first\u001b[0m\u001b[1;33m\u001b[0m\u001b[1;33m\u001b[0m\u001b[1;33m\u001b[0m\u001b[0m\n",
      "\u001b[1;32m~\\AppData\\Local\\Continuum\\anaconda3\\lib\\site-packages\\numpy\\lib\\function_base.py\u001b[0m in \u001b[0;36m_get_ufunc_and_otypes\u001b[1;34m(self, func, args)\u001b[0m\n\u001b[0;32m   2144\u001b[0m \u001b[1;33m\u001b[0m\u001b[0m\n\u001b[0;32m   2145\u001b[0m             \u001b[0minputs\u001b[0m \u001b[1;33m=\u001b[0m \u001b[1;33m[\u001b[0m\u001b[0marg\u001b[0m\u001b[1;33m.\u001b[0m\u001b[0mflat\u001b[0m\u001b[1;33m[\u001b[0m\u001b[1;36m0\u001b[0m\u001b[1;33m]\u001b[0m \u001b[1;32mfor\u001b[0m \u001b[0marg\u001b[0m \u001b[1;32min\u001b[0m \u001b[0margs\u001b[0m\u001b[1;33m]\u001b[0m\u001b[1;33m\u001b[0m\u001b[1;33m\u001b[0m\u001b[0m\n\u001b[1;32m-> 2146\u001b[1;33m             \u001b[0moutputs\u001b[0m \u001b[1;33m=\u001b[0m \u001b[0mfunc\u001b[0m\u001b[1;33m(\u001b[0m\u001b[1;33m*\u001b[0m\u001b[0minputs\u001b[0m\u001b[1;33m)\u001b[0m\u001b[1;33m\u001b[0m\u001b[1;33m\u001b[0m\u001b[0m\n\u001b[0m\u001b[0;32m   2147\u001b[0m \u001b[1;33m\u001b[0m\u001b[0m\n\u001b[0;32m   2148\u001b[0m             \u001b[1;31m# Performance note: profiling indicates that -- for simple\u001b[0m\u001b[1;33m\u001b[0m\u001b[1;33m\u001b[0m\u001b[1;33m\u001b[0m\u001b[0m\n",
      "\u001b[1;32m<ipython-input-407-f0f842d068f8>\u001b[0m in \u001b[0;36m<lambda>\u001b[1;34m(x)\u001b[0m\n\u001b[0;32m      1\u001b[0m \u001b[1;31m# how about this?\u001b[0m\u001b[1;33m\u001b[0m\u001b[1;33m\u001b[0m\u001b[1;33m\u001b[0m\u001b[0m\n\u001b[1;32m----> 2\u001b[1;33m \u001b[0mto_timestamp\u001b[0m \u001b[1;33m=\u001b[0m \u001b[0mnp\u001b[0m\u001b[1;33m.\u001b[0m\u001b[0mvectorize\u001b[0m\u001b[1;33m(\u001b[0m\u001b[1;32mlambda\u001b[0m \u001b[0mx\u001b[0m\u001b[1;33m:\u001b[0m \u001b[0mx\u001b[0m\u001b[1;33m.\u001b[0m\u001b[0mtimestamp\u001b[0m\u001b[1;33m(\u001b[0m\u001b[1;33m)\u001b[0m\u001b[1;33m)\u001b[0m\u001b[1;33m\u001b[0m\u001b[1;33m\u001b[0m\u001b[0m\n\u001b[0m\u001b[0;32m      3\u001b[0m \u001b[0mts_data\u001b[0m \u001b[1;33m=\u001b[0m \u001b[0mto_timestamp\u001b[0m\u001b[1;33m(\u001b[0m\u001b[0mdata\u001b[0m\u001b[1;33m)\u001b[0m\u001b[1;33m\u001b[0m\u001b[1;33m\u001b[0m\u001b[0m\n\u001b[0;32m      4\u001b[0m \u001b[1;33m\u001b[0m\u001b[0m\n\u001b[0;32m      5\u001b[0m \u001b[1;31m# the reason this won't work is that vectorize does not see our data as not pd.Timestamp, but as np.datetime64\u001b[0m\u001b[1;33m\u001b[0m\u001b[1;33m\u001b[0m\u001b[1;33m\u001b[0m\u001b[0m\n",
      "\u001b[1;31mAttributeError\u001b[0m: 'numpy.datetime64' object has no attribute 'timestamp'"
     ]
    }
   ],
   "source": [
    "# how about this?\n",
    "to_timestamp = np.vectorize(lambda x: x.timestamp())\n",
    "ts_data = to_timestamp(data)\n",
    "\n",
    "# the reason this won't work is that vectorize does not see our data as not pd.Timestamp, but as np.datetime64\n",
    "# throws AttributeError: 'numpy.datetime64' object has no attribute 'timestamp'"
   ]
  },
  {
   "cell_type": "code",
   "execution_count": 232,
   "id": "impossible-arthritis",
   "metadata": {
    "collapsed": true,
    "jupyter": {
     "outputs_hidden": true
    },
    "tags": []
   },
   "outputs": [
    {
     "ename": "AttributeError",
     "evalue": "'Timestamp' object has no attribute 'astype'",
     "output_type": "error",
     "traceback": [
      "\u001b[1;31m---------------------------------------------------------------------------\u001b[0m",
      "\u001b[1;31mAttributeError\u001b[0m                            Traceback (most recent call last)",
      "\u001b[1;32m<ipython-input-232-b1c4be3bb7ca>\u001b[0m in \u001b[0;36m<module>\u001b[1;34m\u001b[0m\n\u001b[0;32m      1\u001b[0m \u001b[1;31m# so how about this?\u001b[0m\u001b[1;33m\u001b[0m\u001b[1;33m\u001b[0m\u001b[1;33m\u001b[0m\u001b[0m\n\u001b[0;32m      2\u001b[0m \u001b[0mto_posix\u001b[0m \u001b[1;33m=\u001b[0m \u001b[0mnp\u001b[0m\u001b[1;33m.\u001b[0m\u001b[0mvectorize\u001b[0m\u001b[1;33m(\u001b[0m\u001b[1;32mlambda\u001b[0m \u001b[0mx\u001b[0m\u001b[1;33m:\u001b[0m \u001b[0mx\u001b[0m\u001b[1;33m.\u001b[0m\u001b[0mastype\u001b[0m\u001b[1;33m(\u001b[0m\u001b[1;34m'uint64'\u001b[0m\u001b[1;33m)\u001b[0m\u001b[1;33m)\u001b[0m\u001b[1;33m\u001b[0m\u001b[1;33m\u001b[0m\u001b[0m\n\u001b[1;32m----> 3\u001b[1;33m \u001b[0mto_posix\u001b[0m\u001b[1;33m(\u001b[0m\u001b[0mdata\u001b[0m\u001b[1;33m)\u001b[0m\u001b[1;33m\u001b[0m\u001b[1;33m\u001b[0m\u001b[0m\n\u001b[0m\u001b[0;32m      4\u001b[0m \u001b[1;31m# Also not good! Now numpy thinks this is pd.Timestamp, rather than np.datetime64!\u001b[0m\u001b[1;33m\u001b[0m\u001b[1;33m\u001b[0m\u001b[1;33m\u001b[0m\u001b[0m\n\u001b[0;32m      5\u001b[0m \u001b[1;31m# throws AttributeError: 'Timestamp' object has no attribute 'astype'\u001b[0m\u001b[1;33m\u001b[0m\u001b[1;33m\u001b[0m\u001b[1;33m\u001b[0m\u001b[0m\n",
      "\u001b[1;32m~\\AppData\\Local\\Continuum\\anaconda3\\lib\\site-packages\\numpy\\lib\\function_base.py\u001b[0m in \u001b[0;36m__call__\u001b[1;34m(self, *args, **kwargs)\u001b[0m\n\u001b[0;32m   2106\u001b[0m             \u001b[0mvargs\u001b[0m\u001b[1;33m.\u001b[0m\u001b[0mextend\u001b[0m\u001b[1;33m(\u001b[0m\u001b[1;33m[\u001b[0m\u001b[0mkwargs\u001b[0m\u001b[1;33m[\u001b[0m\u001b[0m_n\u001b[0m\u001b[1;33m]\u001b[0m \u001b[1;32mfor\u001b[0m \u001b[0m_n\u001b[0m \u001b[1;32min\u001b[0m \u001b[0mnames\u001b[0m\u001b[1;33m]\u001b[0m\u001b[1;33m)\u001b[0m\u001b[1;33m\u001b[0m\u001b[1;33m\u001b[0m\u001b[0m\n\u001b[0;32m   2107\u001b[0m \u001b[1;33m\u001b[0m\u001b[0m\n\u001b[1;32m-> 2108\u001b[1;33m         \u001b[1;32mreturn\u001b[0m \u001b[0mself\u001b[0m\u001b[1;33m.\u001b[0m\u001b[0m_vectorize_call\u001b[0m\u001b[1;33m(\u001b[0m\u001b[0mfunc\u001b[0m\u001b[1;33m=\u001b[0m\u001b[0mfunc\u001b[0m\u001b[1;33m,\u001b[0m \u001b[0margs\u001b[0m\u001b[1;33m=\u001b[0m\u001b[0mvargs\u001b[0m\u001b[1;33m)\u001b[0m\u001b[1;33m\u001b[0m\u001b[1;33m\u001b[0m\u001b[0m\n\u001b[0m\u001b[0;32m   2109\u001b[0m \u001b[1;33m\u001b[0m\u001b[0m\n\u001b[0;32m   2110\u001b[0m     \u001b[1;32mdef\u001b[0m \u001b[0m_get_ufunc_and_otypes\u001b[0m\u001b[1;33m(\u001b[0m\u001b[0mself\u001b[0m\u001b[1;33m,\u001b[0m \u001b[0mfunc\u001b[0m\u001b[1;33m,\u001b[0m \u001b[0margs\u001b[0m\u001b[1;33m)\u001b[0m\u001b[1;33m:\u001b[0m\u001b[1;33m\u001b[0m\u001b[1;33m\u001b[0m\u001b[0m\n",
      "\u001b[1;32m~\\AppData\\Local\\Continuum\\anaconda3\\lib\\site-packages\\numpy\\lib\\function_base.py\u001b[0m in \u001b[0;36m_vectorize_call\u001b[1;34m(self, func, args)\u001b[0m\n\u001b[0;32m   2190\u001b[0m                       for a in args]\n\u001b[0;32m   2191\u001b[0m \u001b[1;33m\u001b[0m\u001b[0m\n\u001b[1;32m-> 2192\u001b[1;33m             \u001b[0moutputs\u001b[0m \u001b[1;33m=\u001b[0m \u001b[0mufunc\u001b[0m\u001b[1;33m(\u001b[0m\u001b[1;33m*\u001b[0m\u001b[0minputs\u001b[0m\u001b[1;33m)\u001b[0m\u001b[1;33m\u001b[0m\u001b[1;33m\u001b[0m\u001b[0m\n\u001b[0m\u001b[0;32m   2193\u001b[0m \u001b[1;33m\u001b[0m\u001b[0m\n\u001b[0;32m   2194\u001b[0m             \u001b[1;32mif\u001b[0m \u001b[0mufunc\u001b[0m\u001b[1;33m.\u001b[0m\u001b[0mnout\u001b[0m \u001b[1;33m==\u001b[0m \u001b[1;36m1\u001b[0m\u001b[1;33m:\u001b[0m\u001b[1;33m\u001b[0m\u001b[1;33m\u001b[0m\u001b[0m\n",
      "\u001b[1;32m<ipython-input-232-b1c4be3bb7ca>\u001b[0m in \u001b[0;36m<lambda>\u001b[1;34m(x)\u001b[0m\n\u001b[0;32m      1\u001b[0m \u001b[1;31m# so how about this?\u001b[0m\u001b[1;33m\u001b[0m\u001b[1;33m\u001b[0m\u001b[1;33m\u001b[0m\u001b[0m\n\u001b[1;32m----> 2\u001b[1;33m \u001b[0mto_posix\u001b[0m \u001b[1;33m=\u001b[0m \u001b[0mnp\u001b[0m\u001b[1;33m.\u001b[0m\u001b[0mvectorize\u001b[0m\u001b[1;33m(\u001b[0m\u001b[1;32mlambda\u001b[0m \u001b[0mx\u001b[0m\u001b[1;33m:\u001b[0m \u001b[0mx\u001b[0m\u001b[1;33m.\u001b[0m\u001b[0mastype\u001b[0m\u001b[1;33m(\u001b[0m\u001b[1;34m'uint64'\u001b[0m\u001b[1;33m)\u001b[0m\u001b[1;33m)\u001b[0m\u001b[1;33m\u001b[0m\u001b[1;33m\u001b[0m\u001b[0m\n\u001b[0m\u001b[0;32m      3\u001b[0m \u001b[0mto_posix\u001b[0m\u001b[1;33m(\u001b[0m\u001b[0mdata\u001b[0m\u001b[1;33m)\u001b[0m\u001b[1;33m\u001b[0m\u001b[1;33m\u001b[0m\u001b[0m\n\u001b[0;32m      4\u001b[0m \u001b[1;31m# Also not good! Now numpy thinks this is pd.Timestamp, rather than np.datetime64!\u001b[0m\u001b[1;33m\u001b[0m\u001b[1;33m\u001b[0m\u001b[1;33m\u001b[0m\u001b[0m\n\u001b[0;32m      5\u001b[0m \u001b[1;31m# throws AttributeError: 'Timestamp' object has no attribute 'astype'\u001b[0m\u001b[1;33m\u001b[0m\u001b[1;33m\u001b[0m\u001b[1;33m\u001b[0m\u001b[0m\n",
      "\u001b[1;31mAttributeError\u001b[0m: 'Timestamp' object has no attribute 'astype'"
     ]
    }
   ],
   "source": [
    "# so how about this?\n",
    "to_posix = np.vectorize(lambda x: x.astype('uint64'))\n",
    "to_posix(data)\n",
    "# Also not good! Now numpy thinks this is pd.Timestamp, rather than np.datetime64!\n",
    "# throws AttributeError: 'Timestamp' object has no attribute 'astype'"
   ]
  },
  {
   "cell_type": "code",
   "execution_count": 234,
   "id": "marked-finnish",
   "metadata": {
    "collapsed": true,
    "jupyter": {
     "outputs_hidden": true
    },
    "tags": []
   },
   "outputs": [
    {
     "ename": "AttributeError",
     "evalue": "'int' object has no attribute 'astype'",
     "output_type": "error",
     "traceback": [
      "\u001b[1;31m---------------------------------------------------------------------------\u001b[0m",
      "\u001b[1;31mAttributeError\u001b[0m                            Traceback (most recent call last)",
      "\u001b[1;32m<ipython-input-234-d12598ffb074>\u001b[0m in \u001b[0;36m<module>\u001b[1;34m\u001b[0m\n\u001b[0;32m      3\u001b[0m \u001b[0mv\u001b[0m \u001b[1;33m=\u001b[0m \u001b[0mdata\u001b[0m\u001b[1;33m.\u001b[0m\u001b[0mvalues\u001b[0m\u001b[1;33m\u001b[0m\u001b[1;33m\u001b[0m\u001b[0m\n\u001b[0;32m      4\u001b[0m \u001b[0mto_posix\u001b[0m \u001b[1;33m=\u001b[0m \u001b[0mnp\u001b[0m\u001b[1;33m.\u001b[0m\u001b[0mvectorize\u001b[0m\u001b[1;33m(\u001b[0m\u001b[1;32mlambda\u001b[0m \u001b[0mx\u001b[0m\u001b[1;33m:\u001b[0m \u001b[0mx\u001b[0m\u001b[1;33m.\u001b[0m\u001b[0mastype\u001b[0m\u001b[1;33m(\u001b[0m\u001b[1;34m'uint64'\u001b[0m\u001b[1;33m)\u001b[0m\u001b[1;33m)\u001b[0m\u001b[1;33m\u001b[0m\u001b[1;33m\u001b[0m\u001b[0m\n\u001b[1;32m----> 5\u001b[1;33m \u001b[0mto_posix\u001b[0m\u001b[1;33m(\u001b[0m\u001b[0mv\u001b[0m\u001b[1;33m)\u001b[0m\u001b[1;33m\u001b[0m\u001b[1;33m\u001b[0m\u001b[0m\n\u001b[0m",
      "\u001b[1;32m~\\AppData\\Local\\Continuum\\anaconda3\\lib\\site-packages\\numpy\\lib\\function_base.py\u001b[0m in \u001b[0;36m__call__\u001b[1;34m(self, *args, **kwargs)\u001b[0m\n\u001b[0;32m   2106\u001b[0m             \u001b[0mvargs\u001b[0m\u001b[1;33m.\u001b[0m\u001b[0mextend\u001b[0m\u001b[1;33m(\u001b[0m\u001b[1;33m[\u001b[0m\u001b[0mkwargs\u001b[0m\u001b[1;33m[\u001b[0m\u001b[0m_n\u001b[0m\u001b[1;33m]\u001b[0m \u001b[1;32mfor\u001b[0m \u001b[0m_n\u001b[0m \u001b[1;32min\u001b[0m \u001b[0mnames\u001b[0m\u001b[1;33m]\u001b[0m\u001b[1;33m)\u001b[0m\u001b[1;33m\u001b[0m\u001b[1;33m\u001b[0m\u001b[0m\n\u001b[0;32m   2107\u001b[0m \u001b[1;33m\u001b[0m\u001b[0m\n\u001b[1;32m-> 2108\u001b[1;33m         \u001b[1;32mreturn\u001b[0m \u001b[0mself\u001b[0m\u001b[1;33m.\u001b[0m\u001b[0m_vectorize_call\u001b[0m\u001b[1;33m(\u001b[0m\u001b[0mfunc\u001b[0m\u001b[1;33m=\u001b[0m\u001b[0mfunc\u001b[0m\u001b[1;33m,\u001b[0m \u001b[0margs\u001b[0m\u001b[1;33m=\u001b[0m\u001b[0mvargs\u001b[0m\u001b[1;33m)\u001b[0m\u001b[1;33m\u001b[0m\u001b[1;33m\u001b[0m\u001b[0m\n\u001b[0m\u001b[0;32m   2109\u001b[0m \u001b[1;33m\u001b[0m\u001b[0m\n\u001b[0;32m   2110\u001b[0m     \u001b[1;32mdef\u001b[0m \u001b[0m_get_ufunc_and_otypes\u001b[0m\u001b[1;33m(\u001b[0m\u001b[0mself\u001b[0m\u001b[1;33m,\u001b[0m \u001b[0mfunc\u001b[0m\u001b[1;33m,\u001b[0m \u001b[0margs\u001b[0m\u001b[1;33m)\u001b[0m\u001b[1;33m:\u001b[0m\u001b[1;33m\u001b[0m\u001b[1;33m\u001b[0m\u001b[0m\n",
      "\u001b[1;32m~\\AppData\\Local\\Continuum\\anaconda3\\lib\\site-packages\\numpy\\lib\\function_base.py\u001b[0m in \u001b[0;36m_vectorize_call\u001b[1;34m(self, func, args)\u001b[0m\n\u001b[0;32m   2190\u001b[0m                       for a in args]\n\u001b[0;32m   2191\u001b[0m \u001b[1;33m\u001b[0m\u001b[0m\n\u001b[1;32m-> 2192\u001b[1;33m             \u001b[0moutputs\u001b[0m \u001b[1;33m=\u001b[0m \u001b[0mufunc\u001b[0m\u001b[1;33m(\u001b[0m\u001b[1;33m*\u001b[0m\u001b[0minputs\u001b[0m\u001b[1;33m)\u001b[0m\u001b[1;33m\u001b[0m\u001b[1;33m\u001b[0m\u001b[0m\n\u001b[0m\u001b[0;32m   2193\u001b[0m \u001b[1;33m\u001b[0m\u001b[0m\n\u001b[0;32m   2194\u001b[0m             \u001b[1;32mif\u001b[0m \u001b[0mufunc\u001b[0m\u001b[1;33m.\u001b[0m\u001b[0mnout\u001b[0m \u001b[1;33m==\u001b[0m \u001b[1;36m1\u001b[0m\u001b[1;33m:\u001b[0m\u001b[1;33m\u001b[0m\u001b[1;33m\u001b[0m\u001b[0m\n",
      "\u001b[1;32m<ipython-input-234-d12598ffb074>\u001b[0m in \u001b[0;36m<lambda>\u001b[1;34m(x)\u001b[0m\n\u001b[0;32m      2\u001b[0m \u001b[1;31m# what if we explicitly convert to numpy.datetime64, without pd.Timestamp magic?\u001b[0m\u001b[1;33m\u001b[0m\u001b[1;33m\u001b[0m\u001b[1;33m\u001b[0m\u001b[0m\n\u001b[0;32m      3\u001b[0m \u001b[0mv\u001b[0m \u001b[1;33m=\u001b[0m \u001b[0mdata\u001b[0m\u001b[1;33m.\u001b[0m\u001b[0mvalues\u001b[0m\u001b[1;33m\u001b[0m\u001b[1;33m\u001b[0m\u001b[0m\n\u001b[1;32m----> 4\u001b[1;33m \u001b[0mto_posix\u001b[0m \u001b[1;33m=\u001b[0m \u001b[0mnp\u001b[0m\u001b[1;33m.\u001b[0m\u001b[0mvectorize\u001b[0m\u001b[1;33m(\u001b[0m\u001b[1;32mlambda\u001b[0m \u001b[0mx\u001b[0m\u001b[1;33m:\u001b[0m \u001b[0mx\u001b[0m\u001b[1;33m.\u001b[0m\u001b[0mastype\u001b[0m\u001b[1;33m(\u001b[0m\u001b[1;34m'uint64'\u001b[0m\u001b[1;33m)\u001b[0m\u001b[1;33m)\u001b[0m\u001b[1;33m\u001b[0m\u001b[1;33m\u001b[0m\u001b[0m\n\u001b[0m\u001b[0;32m      5\u001b[0m \u001b[0mto_posix\u001b[0m\u001b[1;33m(\u001b[0m\u001b[0mv\u001b[0m\u001b[1;33m)\u001b[0m\u001b[1;33m\u001b[0m\u001b[1;33m\u001b[0m\u001b[0m\n",
      "\u001b[1;31mAttributeError\u001b[0m: 'int' object has no attribute 'astype'"
     ]
    }
   ],
   "source": [
    "# then how about this?\n",
    "# what if we explicitly convert to numpy.datetime64, without pd.Timestamp magic?\n",
    "v = data.values\n",
    "to_posix = np.vectorize(lambda x: x.astype('uint64'))\n",
    "to_posix(v)\n",
    "# Also not good! Now numpy thinks this is integer, rather than np.datetime64!\n",
    "# throws AttributeError: 'int' object has no attribute 'astype'"
   ]
  },
  {
   "cell_type": "code",
   "execution_count": 235,
   "id": "about-balloon",
   "metadata": {},
   "outputs": [
    {
     "data": {
      "text/plain": [
       "array([1602755816, 1604355480, 1603859016, 1602884307, 1604757866,\n",
       "       1603333368, 1602171836, 1602809975, 1602628030, 1602061060,\n",
       "       1604615413, 1602130471, 1602628827, 1605774179, 1605914840,\n",
       "       1606028566, 1603231716, 1605239197, 1603630599, 1605082513,\n",
       "       1606275936, 1603592724, 1603769726, 1602560617, 1606842623,\n",
       "       1603962783, 1603764224, 1604282954, 1603472921, 1602627379,\n",
       "       1606546557, 1604165690, 1603709793, 1603633129, 1604736095,\n",
       "       1602130934, 1604087578, 1605859769, 1602146546, 1605354385,\n",
       "       1603060201, 1603873536, 1603079044, 1605210102, 1605148591,\n",
       "       1606398412, 1602172986, 1606805188, 1602845513, 1605523457],\n",
       "      dtype=int64)"
      ]
     },
     "execution_count": 235,
     "metadata": {},
     "output_type": "execute_result"
    }
   ],
   "source": [
    "# I found that I could convert to numpy native int64\n",
    "v = data.values\n",
    "million = int(1e9)\n",
    "to_posix = np.vectorize(lambda x: np.int64(x) // million)\n",
    "to_posix(v)\n",
    "# finally... bingo"
   ]
  },
  {
   "cell_type": "markdown",
   "id": "worst-wound",
   "metadata": {},
   "source": [
    "# How to convert series of pd.Timestamps to integers\n",
    "Now that we know how to do it, we can improve it for efficiency"
   ]
  },
  {
   "cell_type": "code",
   "execution_count": 408,
   "id": "classical-arizona",
   "metadata": {},
   "outputs": [],
   "source": [
    "# option 1:\n",
    "# if data is stored in DataFrame\n",
    "\n",
    "df = pd.DataFrame()\n",
    "format='%Y-%m-%d %H:%M:%S'\n",
    "# pd.to_datetime converts strings to Datetimeindex, but because the result is kept as Dataframe column, it actually\n",
    "# gets stored as Series of datetime64 (disguised as pd.Timestamps)\n",
    "# Utterly confusing.\n",
    "df['stamps'] = pd.to_datetime(source, format=format)"
   ]
  },
  {
   "cell_type": "code",
   "execution_count": 410,
   "id": "honest-water",
   "metadata": {},
   "outputs": [
    {
     "name": "stdout",
     "output_type": "stream",
     "text": [
      "Wall time: 888 ms\n"
     ]
    },
    {
     "data": {
      "text/plain": [
       "array([1602758367, 1602758137, 1602759038, ..., 1662757816, 1662755941,\n",
       "       1662761417], dtype=int64)"
      ]
     },
     "execution_count": 410,
     "metadata": {},
     "output_type": "execute_result"
    }
   ],
   "source": [
    "%%time \n",
    "# for 1M records: Wall time: 900 ms\n",
    "\n",
    "# exctract datetime64\n",
    "v = df['stamps'].values\n",
    "million = int(1e9)\n",
    "assert v.dtype == np.dtype('datetime64[ns]')\n",
    "# convert to seconds from Epoch\n",
    "to_posix = np.vectorize(lambda x: np.int64(x) // million)\n",
    "to_posix(v)"
   ]
  },
  {
   "cell_type": "code",
   "execution_count": 411,
   "id": "surrounded-elements",
   "metadata": {},
   "outputs": [],
   "source": [
    "# option 2:\n",
    "# if the original data is stored as DateTimeIndex, we need less code and less CPU!\n",
    "\n",
    "# store strings as DateTimeIndex. Just remember to not store the result as DataFrame column \n",
    "data = pd.to_datetime(source, format=format)"
   ]
  },
  {
   "cell_type": "code",
   "execution_count": 412,
   "id": "antique-nomination",
   "metadata": {},
   "outputs": [
    {
     "data": {
      "text/plain": [
       "pandas.core.indexes.datetimes.DatetimeIndex"
      ]
     },
     "execution_count": 412,
     "metadata": {},
     "output_type": "execute_result"
    }
   ],
   "source": [
    "type(data)"
   ]
  },
  {
   "cell_type": "code",
   "execution_count": 413,
   "id": "employed-spyware",
   "metadata": {},
   "outputs": [
    {
     "data": {
      "text/plain": [
       "list"
      ]
     },
     "execution_count": 413,
     "metadata": {},
     "output_type": "execute_result"
    }
   ],
   "source": [
    "type(source)"
   ]
  },
  {
   "cell_type": "code",
   "execution_count": 415,
   "id": "thorough-edwards",
   "metadata": {},
   "outputs": [
    {
     "name": "stdout",
     "output_type": "stream",
     "text": [
      "Wall time: 37.8 ms\n"
     ]
    },
    {
     "data": {
      "text/plain": [
       "Int64Index([1602758367, 1602758137, 1602759038, 1602760978, 1602757655,\n",
       "            1602760664, 1602758620, 1602757821, 1602760088, 1602761424,\n",
       "            ...\n",
       "            1662757225, 1662755461, 1662756297, 1662757438, 1662756997,\n",
       "            1662756833, 1662755963, 1662757816, 1662755941, 1662761417],\n",
       "           dtype='int64', length=1000000)"
      ]
     },
     "execution_count": 415,
     "metadata": {},
     "output_type": "execute_result"
    }
   ],
   "source": [
    "%%time\n",
    "# for 150,000 records: Wall time: 50 ms\n",
    "\n",
    "# ensure the unit is nanoseconds\n",
    "assert data.dtype == np.dtype('datetime64[ns]')\n",
    "# convert to seconds from Epoch\n",
    "# because we use DatetimeIndex, we now CAN use astype\n",
    "million = int(1e9)\n",
    "data.astype('int64') // million"
   ]
  },
  {
   "cell_type": "code",
   "execution_count": 417,
   "id": "fuzzy-complaint",
   "metadata": {},
   "outputs": [
    {
     "name": "stdout",
     "output_type": "stream",
     "text": [
      "Wall time: 49 ms\n"
     ]
    },
    {
     "data": {
      "text/plain": [
       "0         1602758367\n",
       "1         1602758137\n",
       "2         1602759038\n",
       "3         1602760978\n",
       "4         1602757655\n",
       "             ...    \n",
       "999995    1662756833\n",
       "999996    1662755963\n",
       "999997    1662757816\n",
       "999998    1662755941\n",
       "999999    1662761417\n",
       "Name: stamps, Length: 1000000, dtype: int64"
      ]
     },
     "execution_count": 417,
     "metadata": {},
     "output_type": "execute_result"
    }
   ],
   "source": [
    "%%time\n",
    "# for 150,000 records: Wall time: 60 ms\n",
    "\n",
    "# option 3\n",
    "\n",
    "# use Pandas native arithmetics\n",
    "epoch = pd.Timestamp(\"1970-01-01\")\n",
    "second = pd.Timedelta(\"1s\")\n",
    "(df.stamps - epoch) // second"
   ]
  },
  {
   "cell_type": "markdown",
   "id": "unavailable-belle",
   "metadata": {},
   "source": [
    "# To summarize\n",
    "The last two ways of converting are much more efficient time-wise. Use (df.stamps - epoch) // pd.Timedelta(\"1s\")"
   ]
  },
  {
   "cell_type": "code",
   "execution_count": null,
   "id": "revolutionary-jacksonville",
   "metadata": {},
   "outputs": [],
   "source": []
  }
 ],
 "metadata": {
  "kernelspec": {
   "display_name": "Python 3",
   "language": "python",
   "name": "python3"
  },
  "language_info": {
   "codemirror_mode": {
    "name": "ipython",
    "version": 3
   },
   "file_extension": ".py",
   "mimetype": "text/x-python",
   "name": "python",
   "nbconvert_exporter": "python",
   "pygments_lexer": "ipython3",
   "version": "3.7.7"
  }
 },
 "nbformat": 4,
 "nbformat_minor": 5
}
