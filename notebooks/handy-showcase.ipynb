{
 "cells": [
  {
   "cell_type": "markdown",
   "metadata": {},
   "source": [
    "# Example of using handy module ..FIXME\n",
    "## Useful stuff related to time, and time analysis"
   ]
  },
  {
   "cell_type": "code",
   "execution_count": 5,
   "metadata": {},
   "outputs": [],
   "source": [
    "import sys\n",
    "sys.path.insert(0, '../modules')\n",
    "import handy as hd"
   ]
  },
  {
   "cell_type": "code",
   "execution_count": 27,
   "metadata": {},
   "outputs": [],
   "source": [
    "import pandas as pd, numpy as np\n",
    "import os\n",
    "import matplotlib.pyplot as plt\n",
    "# Remove the most annoying pandas warning\n",
    "# A value is trying to be set on a copy of a slice from a DataFrame.\n",
    "pd.options.mode.chained_assignment = None\n",
    "\n",
    "data_dir = '../../data'\n",
    "src_file = 'sample02.csv'\n",
    "\n",
    "f = os.path.join(data_dir, src_file)"
   ]
  },
  {
   "cell_type": "code",
   "execution_count": 7,
   "metadata": {},
   "outputs": [],
   "source": [
    "df = pd.read_csv(f, encoding='latin_1', sep = ';', error_bad_lines=False)"
   ]
  },
  {
   "cell_type": "markdown",
   "metadata": {},
   "source": [
    "# useful auxiliary columns"
   ]
  },
  {
   "cell_type": "code",
   "execution_count": 8,
   "metadata": {},
   "outputs": [
    {
     "name": "stdout",
     "output_type": "stream",
     "text": [
      "Wall time: 37.8 ms\n"
     ]
    }
   ],
   "source": [
    "%time df['created'] = pd.to_datetime(df['created'], format = hd.format_dash, errors = 'coerce')"
   ]
  },
  {
   "cell_type": "code",
   "execution_count": 9,
   "metadata": {},
   "outputs": [
    {
     "name": "stdout",
     "output_type": "stream",
     "text": [
      "Wall time: 37.8 ms\n"
     ]
    }
   ],
   "source": [
    "%time df['resolved'] = pd.to_datetime(df['resolved'], format = hd.format_dash, errors = 'coerce')"
   ]
  },
  {
   "cell_type": "code",
   "execution_count": 10,
   "metadata": {},
   "outputs": [
    {
     "data": {
      "text/plain": [
       "<module 'handy' from '../modules\\\\handy.py'>"
      ]
     },
     "execution_count": 10,
     "metadata": {},
     "output_type": "execute_result"
    }
   ],
   "source": [
    "from importlib import reload\n",
    "reload(hd)"
   ]
  },
  {
   "cell_type": "code",
   "execution_count": 11,
   "metadata": {},
   "outputs": [],
   "source": [
    "df = hd.augment_columns(df)"
   ]
  },
  {
   "cell_type": "code",
   "execution_count": 12,
   "metadata": {},
   "outputs": [
    {
     "name": "stdout",
     "output_type": "stream",
     "text": [
      "<class 'pandas.core.frame.DataFrame'>\n",
      "RangeIndex: 37835 entries, 0 to 37834\n",
      "Data columns (total 13 columns):\n",
      " #   Column    Non-Null Count  Dtype          \n",
      "---  ------    --------------  -----          \n",
      " 0   created   37835 non-null  datetime64[ns] \n",
      " 1   resolved  37834 non-null  datetime64[ns] \n",
      " 2   category  37835 non-null  object         \n",
      " 3   priority  37835 non-null  object         \n",
      " 4   delta     37834 non-null  timedelta64[ns]\n",
      " 5   delta_m   37834 non-null  float64        \n",
      " 6   tod       37835 non-null  float64        \n",
      " 7   weekday   37835 non-null  int64          \n",
      " 8   hour      37835 non-null  int64          \n",
      " 9   tow       37835 non-null  float64        \n",
      " 10  weekhour  37835 non-null  float64        \n",
      " 11  day_nr    37835 non-null  int64          \n",
      " 12  week_nr   37835 non-null  int64          \n",
      "dtypes: datetime64[ns](2), float64(4), int64(4), object(2), timedelta64[ns](1)\n",
      "memory usage: 3.8+ MB\n"
     ]
    }
   ],
   "source": [
    "df.info()"
   ]
  },
  {
   "cell_type": "code",
   "execution_count": 22,
   "metadata": {},
   "outputs": [
    {
     "name": "stdout",
     "output_type": "stream",
     "text": [
      "start:\t2019-01-01 00:00:00\n",
      "end:\t2019-12-31 00:00:00\n",
      "number of records:\t37001\n",
      "days: 364\trecords per day:101.7\n",
      "weeks: 52.0\trecords per week:711.6\n"
     ]
    }
   ],
   "source": [
    "# basic characteristics of data\n",
    "\n",
    "start, end = pd.to_datetime('2019-01-01'), pd.to_datetime('2019-12-31')\n",
    "#df.created.min(), df.created.max()\n",
    "days = (end - start).days\n",
    "weeks = days / 7\n",
    "print('start:\\t{}\\nend:\\t{}'.format(start, end))\n",
    "print('number of records:\\t{}'.format(len(df)))\n",
    "print('days: {}\\trecords per day:{:.1f}'.format(days, len(df) / days))\n",
    "print('weeks: {:.1f}\\trecords per week:{:.1f}'.format( weeks, len(df) / weeks))"
   ]
  },
  {
   "cell_type": "code",
   "execution_count": 23,
   "metadata": {},
   "outputs": [],
   "source": [
    "# how to delimit time-wise\n",
    "df = df[df.created < pd.Timestamp('2021-02-01 00:00:00')]"
   ]
  },
  {
   "cell_type": "code",
   "execution_count": 24,
   "metadata": {},
   "outputs": [],
   "source": [
    "df0 = df.copy()"
   ]
  },
  {
   "cell_type": "markdown",
   "metadata": {},
   "source": [
    "# week hour"
   ]
  },
  {
   "cell_type": "code",
   "execution_count": 25,
   "metadata": {},
   "outputs": [
    {
     "data": {
      "text/plain": [
       "(37001, 13)"
      ]
     },
     "execution_count": 25,
     "metadata": {},
     "output_type": "execute_result"
    }
   ],
   "source": [
    "import seaborn as sns\n",
    "sns.set()\n",
    "df = df0.copy()\n",
    "df.shape"
   ]
  },
  {
   "cell_type": "code",
   "execution_count": 26,
   "metadata": {},
   "outputs": [
    {
     "data": {
      "image/png": "[encoded data removed]",
      "text/plain": [
       "<Figure size 1440x216 with 1 Axes>"
      ]
     },
     "metadata": {},
     "output_type": "display_data"
    }
   ],
   "source": [
    "fig, ax  = plt.subplots(1, 1, figsize=(20,3))\n",
    "axis = ax\n",
    "\n",
    "axis.hist(df.weekhour, bins = 24 * 7)\n",
    "axis.set_xlabel('days of week (0=Mon)')\n",
    "axis.set_ylabel('hours of day')\n",
    "axis.set_title(\"all data\", fontsize = 20)#, fontsize=16, y=0.94)\n",
    "\n",
    "\n",
    "plt.tight_layout()"
   ]
  },
  {
   "cell_type": "code",
   "execution_count": null,
   "metadata": {},
   "outputs": [],
   "source": []
  }
 ],
 "metadata": {
  "kernelspec": {
   "display_name": "Python 3",
   "language": "python",
   "name": "python3"
  },
  "language_info": {
   "codemirror_mode": {
    "name": "ipython",
    "version": 3
   },
   "file_extension": ".py",
   "mimetype": "text/x-python",
   "name": "python",
   "nbconvert_exporter": "python",
   "pygments_lexer": "ipython3",
   "version": "3.7.7"
  }
 },
 "nbformat": 4,
 "nbformat_minor": 4
}
